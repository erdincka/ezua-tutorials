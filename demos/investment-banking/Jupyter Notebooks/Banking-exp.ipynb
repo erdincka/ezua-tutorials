{
 "cells": [
  {
   "cell_type": "code",
   "execution_count": null,
   "id": "fbba5615-fbde-4bd3-9a17-bac910aac593",
   "metadata": {
    "tags": [
     "skip"
    ]
   },
   "outputs": [],
   "source": [
    "!pip install --proxy http://hpeproxy.its.hpecorp.net:80 mlflow==2.4.0"
   ]
  },
  {
   "cell_type": "code",
   "execution_count": null,
   "id": "01adbc31-d773-4206-a6c6-bc8bea5b5942",
   "metadata": {
    "tags": [
     "skip"
    ]
   },
   "outputs": [],
   "source": [
    "import warnings\n",
    "warnings.filterwarnings('ignore')\n",
    "def fxn():\n",
    "    warnings.warn(\"deprecated\", DeprecationWarning)\n",
    "\n",
    "with warnings.catch_warnings():\n",
    "    warnings.simplefilter(\"ignore\")\n",
    "    fxn()\n",
    "%matplotlib inline\n",
    "warnings.filterwarnings('ignore')\n"
   ]
  },
  {
   "cell_type": "code",
   "execution_count": null,
   "id": "2adbd87e-478a-45e4-892e-2f009d3c2a69",
   "metadata": {
    "tags": [
     "skip"
    ]
   },
   "outputs": [],
   "source": [
    "import urllib3\n",
    "urllib3.disable_warnings(urllib3.exceptions.InsecureRequestWarning)"
   ]
  },
  {
   "cell_type": "code",
   "execution_count": null,
   "id": "81d246e6",
   "metadata": {
    "tags": [
     "imports"
    ]
   },
   "outputs": [],
   "source": [
    "import pandas as pd\n",
    "import numpy as np\n",
    "import boto3\n",
    "import io\n",
    "import joblib\n",
    "from sklearn.feature_selection import  SelectKBest, f_classif\n",
    "import matplotlib.pyplot as plt \n",
    "import seaborn as sns\n",
    "from imblearn import under_sampling,over_sampling\n",
    "from imblearn.over_sampling import SMOTE\n",
    "from scipy.stats import zscore\n",
    "from sklearn.preprocessing  import power_transform, StandardScaler, LabelEncoder\n",
    "from sklearn.feature_selection import VarianceThreshold, SelectKBest, f_classif\n",
    "from statsmodels.stats.outliers_influence import variance_inflation_factor\n",
    "from sklearn.model_selection import train_test_split, GridSearchCV,cross_val_score\n",
    "from sklearn.linear_model import LogisticRegression, SGDRegressor,Ridge, Lasso\n",
    "from sklearn.metrics import roc_curve, auc, roc_auc_score, accuracy_score,classification_report, confusion_matrix,plot_roc_curve\n",
    "from sklearn.ensemble import RandomForestClassifier, GradientBoostingClassifier\n",
    "from sklearn.neighbors import KNeighborsClassifier\n",
    "from sklearn.svm import SVC\n",
    "from sklearn.tree import DecisionTreeClassifier\n",
    "from xgboost import XGBClassifier\n",
    "from sklearn.model_selection import KFold\n",
    "import pickle\n",
    "from sklearn.preprocessing import PowerTransformer\n",
    "from sklearn.preprocessing import LabelEncoder\n",
    "from mlflow.tracking import MlflowClient\n",
    "import mlflow, urllib3\n",
    "import subprocess\n",
    "\n",
    "\n"
   ]
  },
  {
   "cell_type": "code",
   "execution_count": null,
   "id": "eed80d6f-c5f1-42c0-846c-b53b9a3e11d9",
   "metadata": {
    "tags": [
     "block:"
    ]
   },
   "outputs": [],
   "source": [
    "import requests\n",
    "import os\n",
    "EZAF_ENV = \"hpe-staging-ezaf\"\n",
    "token_url = f\"https://keycloak.{EZAF_ENV}.com/realms/UA/protocol/openid-connect/token\"\n",
    "\n",
    "data = {\n",
    "    \"username\" : \"hpedemo-user01\",\n",
    "    \"password\" : \"Hpepoc@123\",\n",
    "    \"grant_type\" : \"password\",\n",
    "    \"client_id\" : \"ua-grant\",\n",
    "}\n",
    "\n",
    "token_responce = requests.post(token_url, data=data, allow_redirects=True, verify=False)\n",
    "\n",
    "token = token_responce.json()[\"access_token\"]\n",
    "\n",
    "minio_username = \"minioadmin\"\n",
    "minio_password = \"minioadmin\"\n",
    "os.environ[\"MLFLOW_S3_ENDPOINT_URL\"] = \"https://home.hpe-staging-ezaf.com:31900\"\n",
    "os.environ['MLFLOW_TRACKING_TOKEN'] = token\n",
    "os.environ[\"MLFLOW_TRACKING_URI\"] = \"https://mlflow.hpe-staging-ezaf.com\"\n",
    "\n",
    "os.environ[\"MLFLOW_TRACKING_INSECURE_TLS\"] = \"true\"\n",
    "os.environ[\"MLFLOW_S3_IGNORE_TLS\"] = \"true\"\n",
    "os.environ[\"AWS_ACCESS_KEY_ID\"] = minio_username\n",
    "os.environ[\"AWS_SECRET_ACCESS_KEY\"] = minio_password"
   ]
  },
  {
   "cell_type": "code",
   "execution_count": null,
   "id": "42c7ecac-caff-4d59-a6c5-9d3d5cb089ed",
   "metadata": {
    "tags": [
     "skip"
    ]
   },
   "outputs": [],
   "source": [
    "%matplotlib inline"
   ]
  },
  {
   "cell_type": "code",
   "execution_count": null,
   "id": "f609b16d-ce25-4400-bdd6-407733c0ea13",
   "metadata": {
    "tags": [
     "block:read"
    ]
   },
   "outputs": [],
   "source": [
    "import requests\n",
    "# Set up AWS credentials and create S3 client\n",
    "config = {\n",
    "    \"KSERVE_MODEL_NAME\": \"bank-demo-10-010823\",\n",
    "    \"SERVICE_ACCOUNT\": \"kserve-minio-sa\"\n",
    "}\n",
    "\n",
    "# Adding package to env\n",
    "# pip_reqs = mlflow.sklearn.get_default_pip_requirements()\n",
    "# pip_reqs += ['dill']\n",
    "\n",
    "EXPERIMENT_NAME = config[\"KSERVE_MODEL_NAME\"]\n",
    "mlflow.set_experiment(EXPERIMENT_NAME)\n",
    "EXPERIMENT_ID = mlflow.get_experiment_by_name(EXPERIMENT_NAME).experiment_id\n",
    "session = boto3.Session(\n",
    "aws_access_key_id='minioadmin',\n",
    "aws_secret_access_key='minioadmin',\n",
    ")\n",
    "s3 = session.client('s3',endpoint_url='https://home.hpe-staging-ezaf.com:31900',verify=False)\n",
    "from datetime import datetime\n",
    "\n",
    "today = datetime.today().strftime('%Y-%m-%d')\n",
    "\n",
    "# TODO: Delete code line below\n",
    "today = \"2023-07-11\"\n",
    "\n",
    "# Specify bucket name and folder path\n",
    "bucket_name = 'bank'\n",
    "folder_path = f'merged_data{today}'\n",
    "\n",
    "# List objects in the folder\n",
    "response = s3.list_objects_v2(Bucket=bucket_name, Prefix=folder_path)\n",
    "print(response)\n",
    "file_objects = response['Contents']\n",
    "\n",
    "# Print the names of all files in the folder\n",
    "print(\"Files in the folder:\")\n",
    "for file in file_objects:\n",
    "    file_name = file['Key']\n",
    "    print(file_name)\n",
    "# Filter and select the CSV file in the folder\n",
    "csv_files = [file for file in file_objects if file['Key'].lower().endswith('.csv')]\n",
    "\n",
    "if len(csv_files) == 1:\n",
    "    csv_file = csv_files[0]\n",
    "    file_key = csv_file['Key']\n",
    "\n",
    "# Download CSV file from S3 and load into DataFrame\n",
    "csv_data = s3.get_object(Bucket=bucket_name, Key=file_key)['Body'].read().decode('utf-8')\n",
    "df = pd.read_csv(io.StringIO(csv_data))\n",
    "# Read the Dataset\n",
    "# df = pd.read_csv(\"merged.csv\")\n",
    "df\n",
    "df.head(25)\n",
    "df.size\n",
    "df.dtypes\n",
    "df.shape\n",
    "df.info()\n",
    "df.columns"
   ]
  },
  {
   "cell_type": "code",
   "execution_count": null,
   "id": "617a1229",
   "metadata": {
    "tags": [
     "skip"
    ]
   },
   "outputs": [],
   "source": [
    "#checking Null Values in the dataset\n",
    "df.isnull()\n",
    "\n",
    "#checking the sum of the Dataset\n",
    "df.isnull().sum()\n",
    "\n",
    "#checking Null values by heatmap\n",
    "sns.heatmap(df.isnull())"
   ]
  },
  {
   "cell_type": "code",
   "execution_count": null,
   "id": "490b3b4b",
   "metadata": {
    "tags": [
     "skip"
    ]
   },
   "outputs": [],
   "source": [
    "#checking any space in the dataset \n",
    "\n",
    "(df == ' ?')\n",
    "(df == ' ?').sum()\n",
    "#Or\n",
    "(df == ' ').sum()\n",
    "#checking any null value in the target column\n",
    "df[df['target'] == '']\n",
    "df[df['target'] == ''].index\n",
    "df['target'].value_counts()\n",
    "df['target'].unique()\n",
    "df.nunique()"
   ]
  },
  {
   "cell_type": "code",
   "execution_count": null,
   "id": "57ec6915",
   "metadata": {
    "tags": [
     "skip"
    ]
   },
   "outputs": [],
   "source": [
    "df.describe()\n",
    "plt.figure(figsize=(10,5))\n",
    "sns.heatmap(round(df.describe()[1:].transpose(),2),linewidth=2,annot=True,fmt='.2f')\n",
    "plt.xticks(fontsize=14)\n",
    "plt.xticks(fontsize=8)\n",
    "plt.title('variable')\n",
    "plt.show()"
   ]
  },
  {
   "cell_type": "code",
   "execution_count": null,
   "id": "4bb256a1",
   "metadata": {
    "tags": [
     "skip"
    ]
   },
   "outputs": [],
   "source": [
    "# Data Cleaning and Preprocessing\n",
    "df['age'].value_counts()\n",
    "df['age'].unique()\n",
    "#Histplot for \"tenure\" column\n",
    "print(df[\"target\"].value_counts())\n",
    "plt.figure(figsize=(2,2))\n",
    "sns.histplot(x='target',data=df,bins=73)"
   ]
  },
  {
   "cell_type": "code",
   "execution_count": null,
   "id": "0776b6fb",
   "metadata": {
    "tags": [
     "skip"
    ]
   },
   "outputs": [],
   "source": [
    "#  Bivariate Analysis\n",
    "plt.figure(figsize=(25,10))\n",
    "sns.countplot(x='age', data=df, hue='target')\n",
    "\n",
    "plt.figure(figsize=(15,10))\n",
    "sns.countplot(x='job', data=df,hue='target')\n",
    "\n",
    "plt.figure(figsize=(5,5))\n",
    "sns.countplot(x='marital', data=df,hue='target')\n",
    "\n",
    "plt.figure(figsize=(5,5))\n",
    "sns.countplot(x='education', data=df,hue='target')\n",
    "\n",
    "plt.figure(figsize=(5,5))\n",
    "sns.countplot(x='default1', data=df,hue='target')\n",
    "\n",
    "plt.figure(figsize=(50,50))\n",
    "sns.boxenplot(x='balance', data=df,hue='target')\n",
    "\n",
    "plt.figure(figsize=(5,5))\n",
    "sns.countplot(x='housing', data=df,hue='target')\n",
    "\n",
    "plt.figure(figsize=(5,5))\n",
    "sns.countplot(x='loan', data=df,hue='target')\n",
    "\n",
    "plt.figure(figsize=(5,5))\n",
    "sns.countplot(x='contact', data=df,hue='target')\n",
    "\n",
    "plt.figure(figsize=(10,5))\n",
    "sns.countplot(x='day', data=df,hue='target')\n",
    "\n",
    "plt.figure(figsize=(10,5))\n",
    "sns.countplot(x='month', data=df,hue='target')\n",
    "\n",
    "plt.figure(figsize=(15,5))\n",
    "sns.swarmplot(x='duration', data=df,hue='target')\n",
    "\n",
    "plt.figure(figsize=(10,5))\n",
    "sns.countplot(x='campaign', data=df,hue='target')\n",
    "\n",
    "plt.figure(figsize=(10,5))\n",
    "sns.countplot(x='pdays', data=df,hue='target')\n",
    "\n",
    "plt.figure(figsize=(10,5))\n",
    "sns.countplot(x='previous', data=df,hue='target')\n",
    "\n",
    "plt.figure(figsize=(10,5))\n",
    "sns.countplot(x='poutcome', data=df,hue='target')\n",
    "\n",
    "plt.figure(figsize=(5,5))\n",
    "sns.countplot(x='target', data=df,hue='target')"
   ]
  },
  {
   "cell_type": "code",
   "execution_count": null,
   "id": "969d3a01",
   "metadata": {
    "tags": [
     "skip"
    ]
   },
   "outputs": [],
   "source": [
    "sns.pairplot(df,hue='target')"
   ]
  },
  {
   "cell_type": "code",
   "execution_count": null,
   "id": "0331964c",
   "metadata": {
    "tags": [
     "block:data_preparere_label_encode",
     "prev:read"
    ]
   },
   "outputs": [],
   "source": [
    "enc = LabelEncoder()\n",
    "for i in df.columns:\n",
    "    if df[i].dtypes =='object':\n",
    "        df[i]=enc.fit_transform(df[i].values.reshape(-1,1))"
   ]
  },
  {
   "cell_type": "code",
   "execution_count": null,
   "id": "4e4be203",
   "metadata": {
    "tags": [
     "skip"
    ]
   },
   "outputs": [],
   "source": [
    "#  Checking Correlation\n",
    "df.head(50)\n",
    "df.corr()\n",
    "df.corr()['target'].sort_values()\n",
    "\n",
    "# Checking Correlation with Heatmap\n",
    "\n",
    "plt.figure(figsize=(15,10))\n",
    "sns.heatmap(df.corr(),annot=True, linewidths=0.5,linecolor='green',fmt='.1f')\n",
    "\n",
    "#  Checking Correlation with barplot\n",
    "plt.figure(figsize=(10,7))\n",
    "df.corr()['target'].sort_values(ascending=True).drop(['target']).plot(kind='bar',color = 'c')\n",
    "plt.xlabel('Feature',fontsize=18)\n",
    "plt.ylabel('Target',fontsize=14)\n",
    "plt.title('Correlation',fontsize = 18)\n",
    "plt.show()"
   ]
  },
  {
   "cell_type": "code",
   "execution_count": null,
   "id": "11a82fb2",
   "metadata": {
    "tags": [
     "skip"
    ]
   },
   "outputs": [],
   "source": [
    "# We can observe :\n",
    "# All columns are sorted in ascending order showing least to strong correlation with target column. \n",
    "# 13 columns are negatively correlated and 7 columns are positively correlated. Column 'MonthlyCharges' \n",
    "# is highly correlated with Target column 'Churn' and Column 'Contract' is least correlated with Target column 'Churn'."
   ]
  },
  {
   "cell_type": "code",
   "execution_count": null,
   "id": "4e3cd533",
   "metadata": {
    "tags": [
     "skip"
    ]
   },
   "outputs": [],
   "source": [
    "# Checking Outliers\n",
    "collist=df.columns.values\n",
    "ncol=21\n",
    "nrows=11\n",
    "plt.figure(figsize=(ncol,3*ncol))\n",
    "for column in range(0,len(collist)):\n",
    "    plt.subplot(nrows,ncol,column+1)\n",
    "    sns.boxplot(data=df[collist[column]],color='green',orient='v')\n",
    "  #  plt.xlabel(column,frontsize = 15)\n",
    "    plt.tight_layout()\n",
    "df.skew()"
   ]
  },
  {
   "cell_type": "code",
   "execution_count": null,
   "id": "dad796a7",
   "metadata": {
    "tags": [
     "skip"
    ]
   },
   "outputs": [],
   "source": [
    "plt.figure(figsize=(25,25), facecolor='pink')\n",
    "plotnumber = 1\n",
    "\n",
    "for column in df:\n",
    "    if plotnumber<=21:\n",
    "        ax = plt.subplot(5,5,plotnumber)\n",
    "        sns.histplot(df[column])\n",
    "        plt.xlabel(column,fontsize=20)\n",
    "    plotnumber+=1\n",
    "plt.show()"
   ]
  },
  {
   "cell_type": "code",
   "execution_count": null,
   "id": "cf380cf6",
   "metadata": {
    "tags": [
     "skip"
    ]
   },
   "outputs": [],
   "source": [
    "collist = ['poutcome']\n",
    "df[collist]=power_transform(df[collist],method='yeo-johnson')\n",
    "df[collist]\n",
    "df.skew()\n",
    "sns.distplot(df['poutcome'])"
   ]
  },
  {
   "cell_type": "code",
   "execution_count": null,
   "id": "55676458",
   "metadata": {
    "tags": [
     "block:data",
     "prev:data_preparere_label_encode"
    ]
   },
   "outputs": [],
   "source": [
    "# Data Preprocessing\n",
    "x=df.drop(\"target\",axis=1)\n",
    "y=df[\"target\"]\n",
    "x.columns\n",
    "x.head(10)\n",
    "y.head(10)\n",
    "x.shape\n",
    "y.shape\n",
    "y.value_counts()\n",
    "SM = SMOTE()\n",
    "x, y = SM.fit_resample(x,y)\n",
    "y.value_counts()"
   ]
  },
  {
   "cell_type": "code",
   "execution_count": null,
   "id": "94cd6094",
   "metadata": {
    "tags": [
     "block:data_scaling",
     "prev:data"
    ]
   },
   "outputs": [],
   "source": [
    "# Scaling data using Standard Scaler\n",
    "scaler = StandardScaler()\n",
    "x = pd.DataFrame(scaler.fit_transform(x), columns = x.columns)\n",
    "x.head()\n",
    "x\n",
    "var_threshold = VarianceThreshold(threshold=0)\n",
    "var_threshold.fit(x)\n",
    "\n",
    "var_threshold.get_support()\n",
    "x.columns[var_threshold.get_support()]\n",
    "\n",
    "# taking  out  all the  constant  columns \n",
    "cons_columns = [column for column in x.columns\n",
    "               if column not in x.columns[var_threshold.get_support()]]\n",
    "print(len(cons_columns))"
   ]
  },
  {
   "cell_type": "code",
   "execution_count": null,
   "id": "042da9d1",
   "metadata": {
    "tags": [
     "skip"
    ]
   },
   "outputs": [],
   "source": [
    "# SelectKBest method\n",
    "best_fit = SelectKBest(score_func = f_classif, k ='all')\n",
    "fit = best_fit.fit(x,y)\n",
    "dfscores = pd.DataFrame(fit.scores_)\n",
    "dfcolumns = pd.DataFrame(x.columns)\n",
    "fit = best_fit.fit(x,y)\n",
    "dfscores = pd.DataFrame(fit.scores_)\n",
    "dfcolumns = pd.DataFrame(x.columns)\n",
    "dfcolumns.head()\n",
    "featureScores = pd.concat([dfcolumns,dfscores],axis = 1)\n",
    "featureScores.columns = ['Feature', 'Score']\n",
    "print(featureScores.nlargest(12,'Score'))"
   ]
  },
  {
   "cell_type": "code",
   "execution_count": null,
   "id": "7a9d3805",
   "metadata": {
    "tags": [
     "skip"
    ]
   },
   "outputs": [],
   "source": [
    "# VIF(Variance Inflation factor)\n",
    "vif = pd.DataFrame()\n",
    "vif['VIF values'] = [variance_inflation_factor(x.values,i)for i in range(len(x.columns))]\n",
    "vif['features'] = x.columns\n",
    "vif\n"
   ]
  },
  {
   "cell_type": "code",
   "execution_count": null,
   "id": "fdb03e02",
   "metadata": {
    "tags": [
     "block:creating_model",
     "prev:data_scaling"
    ]
   },
   "outputs": [],
   "source": [
    "# Creating Model\n",
    "maxAccu = 0\n",
    "maxRS = 0\n",
    "for i in range(1,100):\n",
    "    x_train,x_test,y_train,y_test = train_test_split(x,y,test_size=.30, random_state =i)\n",
    "    DTC = DecisionTreeClassifier()\n",
    "    DTC.fit(x_train,y_train)\n",
    "    pred = DTC.predict(x_test)\n",
    "    acc = accuracy_score(y_test,pred)\n",
    "    if acc>maxAccu:\n",
    "        maxAccu=acc\n",
    "        maxRS=i\n",
    "print('Best Accuracy is :- ', maxAccu, 'on Random State :- ',maxRS)"
   ]
  },
  {
   "cell_type": "code",
   "execution_count": null,
   "id": "11f22f6e",
   "metadata": {
    "tags": [
     "block:train_test_sp",
     "prev:creating_model"
    ]
   },
   "outputs": [],
   "source": [
    "# Creating train-test Split\n",
    "x_train,x_test,y_train,y_test = train_test_split(x,y,test_size=.15,random_state=maxRS)\n",
    "x.shape\n",
    "y.shape\n",
    "x_train.shape,y_train.shape, x_test.shape,y_test.shape"
   ]
  },
  {
   "cell_type": "code",
   "execution_count": null,
   "id": "35ae7db7-95f2-44e6-bb79-28f2d0b50d9c",
   "metadata": {
    "tags": []
   },
   "outputs": [],
   "source": [
    "from sklearn.metrics import mean_squared_error, mean_absolute_error, r2_score\n",
    "def eval_metrics(actual, pred):\n",
    "    rmse = np.sqrt(mean_squared_error(actual, pred))\n",
    "    mae = mean_absolute_error(actual, pred)\n",
    "    r2 = r2_score(actual, pred)\n",
    "    return rmse, mae, r2"
   ]
  },
  {
   "cell_type": "code",
   "execution_count": null,
   "id": "93463d02",
   "metadata": {
    "tags": [
     "block:logistic_regression",
     "prev:train_test_sp"
    ]
   },
   "outputs": [],
   "source": [
    "# Logistic Regression\n",
    "mlflow.end_run()\n",
    "with mlflow.start_run(run_name='Logistic Regression', experiment_id=EXPERIMENT_ID):\n",
    "    logreg = LogisticRegression()\n",
    "    logreg.fit(x_train, y_train)\n",
    "\n",
    "    predicted_qualities = logreg.predict(x_test)\n",
    "\n",
    "    (rmse, mae, r2) = eval_metrics(y_test, predicted_qualities)\n",
    "    accuracy = round(logreg.score(x, y) * 100, 2)\n",
    "    print(\"  RMSE: %s\" % rmse)\n",
    "    print(\"  MAE: %s\" % mae)\n",
    "    print(\"  R2: %s\" % r2)\n",
    "    print(\"  Accuracy: %s\" % accuracy)\n",
    "    mlflow.log_metric(\"rmse\", rmse)\n",
    "    mlflow.log_metric(\"r2\", r2)\n",
    "    mlflow.log_metric(\"mae\", mae)\n",
    "    mlflow.log_metric(\"accuracy\", accuracy)\n",
    "    mlflow.sklearn.log_model(logreg, \"model\")\n",
    "    print('Accuracy Score:- ', accuracy_score(y_test,predicted_qualities))\n",
    "\n",
    "    print('Confusion Matrix :- \\n ', confusion_matrix(y_test,predicted_qualities))\n",
    "\n",
    "    print('Classification Report :- \\n ',classification_report(y_test,predicted_qualities))\n",
    "\n",
    "    ### Here we are getting 85% accuracy using Logistic Regression.\n",
    "    ## Confusion Matrix for Logistic Regression\n",
    "\n",
    "    cm = confusion_matrix(y_test,predicted_qualities)\n",
    "    x_axis_labels = ['Yes', 'No']\n",
    "    y_axis_labels = ['Yes', 'No']\n",
    "    f,ax = plt.subplots(figsize = (7,7))\n",
    "    sns.heatmap(cm,annot = True, linewidths=.2,linecolor='black',fmt= '.0f',ax=ax, cmap = 'Blues',xticklabels=x_axis_labels,yticklabels=y_axis_labels)\n",
    "    plt.title('Logistic Regressior Prediction Confusion Maxtrix ')\n",
    "    mlflow.end_run()"
   ]
  },
  {
   "cell_type": "code",
   "execution_count": null,
   "id": "ac4b5c45",
   "metadata": {
    "tags": [
     "block:random_forest_classifier",
     "prev:train_test_sp"
    ]
   },
   "outputs": [],
   "source": [
    "# Classification Algorithms \n",
    "## Random Forest Classifier\n",
    "with mlflow.start_run(run_name='Random Forest Classifier', experiment_id=EXPERIMENT_ID):\n",
    "    random_forest = RandomForestClassifier()\n",
    "    random_forest.fit(x_train, y_train)\n",
    "\n",
    "    predicted_qualities = random_forest.predict(x_test)\n",
    "\n",
    "    (rmse, mae, r2) = eval_metrics(y_test, predicted_qualities)\n",
    "    accuracy = round(random_forest.score(x, y) * 100, 2)\n",
    "    print(\"  RMSE: %s\" % rmse)\n",
    "    print(\"  MAE: %s\" % mae)\n",
    "    print(\"  R2: %s\" % r2)\n",
    "    print(\"  Accuracy: %s\" % accuracy)\n",
    "    mlflow.log_metric(\"rmse\", rmse)\n",
    "    mlflow.log_metric(\"r2\", r2)\n",
    "    mlflow.log_metric(\"mae\", mae)\n",
    "    mlflow.log_metric(\"accuracy\", accuracy)\n",
    "    mlflow.sklearn.log_model(random_forest, \"model\")\n",
    "    print('Random Forest Accuracy Score is:- \\n \\n  ',accuracy_score(y_test,predicted_qualities))\n",
    "    print('\\n Confusion Matrix is :-\\n  ', confusion_matrix(y_test,predicted_qualities))\n",
    "    print('\\n Classification Report is \\n  ', classification_report(y_test,predicted_qualities))\n",
    "    ## Confusion Matrix for Random Forest Classifier.\n",
    "    cm = confusion_matrix(y_test,predicted_qualities)\n",
    "    x_axis_labels = ['Yes','No']\n",
    "    y_axis_labels = ['Yes','No']\n",
    "    f,ax = plt.subplots(figsize = (5,5))\n",
    "    sns.heatmap(cm,annot=True,linewidths=.2,linecolor='red',fmt = '.0f',ax=ax,cmap='Reds',xticklabels = x_axis_labels,yticklabels=y_axis_labels)\n",
    "    plt.title ('RFC Prediction Confusion Matrix')\n",
    "    mlflow.end_run()\n",
    "\n"
   ]
  },
  {
   "cell_type": "code",
   "execution_count": null,
   "id": "da672d6c",
   "metadata": {
    "tags": [
     "block:decision_tree_classifier",
     "prev:train_test_sp"
    ]
   },
   "outputs": [],
   "source": [
    "# Decision Tree Classifier\n",
    "with mlflow.start_run(run_name='Decision Tree', experiment_id=EXPERIMENT_ID):\n",
    "    decision_tree = DecisionTreeClassifier()\n",
    "    decision_tree.fit(x_train, y_train)\n",
    "\n",
    "    predicted_qualities = decision_tree.predict(x_test)\n",
    "\n",
    "    (rmse, mae, r2) = eval_metrics(y_test, predicted_qualities)\n",
    "    accuracy = round(decision_tree.score(x, y) * 100, 2)\n",
    "    print(\"  RMSE: %s\" % rmse)\n",
    "    print(\"  MAE: %s\" % mae)\n",
    "    print(\"  R2: %s\" % r2)\n",
    "    print(\"  Accuracy: %s\" % accuracy)\n",
    "    mlflow.log_metric(\"rmse\", rmse)\n",
    "    mlflow.log_metric(\"r2\", r2)\n",
    "    mlflow.log_metric(\"mae\", mae)\n",
    "    mlflow.log_metric(\"accuracy\", accuracy)\n",
    "    mlflow.sklearn.log_model(decision_tree, \"model\")\n",
    "\n",
    "    print('Decision Tree Classifier Accuracy Score is:- \\n \\n  ',accuracy_score(y_test,predicted_qualities))\n",
    "    print('\\n Confusion Matrix is :-\\n  ', confusion_matrix(y_test,predicted_qualities))\n",
    "    print('\\n Classification Report is \\n  ', classification_report(y_test,predicted_qualities))\n",
    "    ## Confusion Matrix for Decision Tree Classifier.\n",
    "    cm = confusion_matrix(y_test,predicted_qualities)\n",
    "    x_axis_labels = ['Yes','No']\n",
    "    y_axis_labels = ['Yes','No']\n",
    "    f,ax = plt.subplots(figsize = (5,5))\n",
    "    sns.heatmap(cm,annot=True,linewidths=.2,linecolor='black',fmt='.0f',ax=ax,cmap='Reds',xticklabels = x_axis_labels,yticklabels = y_axis_labels)\n",
    "    plt.title('DTC Prediction Confusion Matrix')\n",
    "    mlflow.end_run()"
   ]
  },
  {
   "cell_type": "code",
   "execution_count": null,
   "id": "3df435d9",
   "metadata": {
    "tags": [
     "block:support_vector_machine_classifier",
     "prev:train_test_sp"
    ]
   },
   "outputs": [],
   "source": [
    "# Support Vector Machine Classifier\n",
    "with mlflow.start_run(run_name='SVM', experiment_id=EXPERIMENT_ID):\n",
    "    linear_svc = SVC(kernel='linear',gamma='scale')\n",
    "    linear_svc.fit(x_train, y_train)\n",
    "\n",
    "    predicted_qualities = linear_svc.predict(x_test)\n",
    "\n",
    "    (rmse, mae, r2) = eval_metrics(y_test, predicted_qualities)\n",
    "    accuracy = round(linear_svc.score(x, y) * 100, 2)\n",
    "    print(\"  RMSE: %s\" % rmse)\n",
    "    print(\"  MAE: %s\" % mae)\n",
    "    print(\"  R2: %s\" % r2)\n",
    "    print(\"  Accuracy: %s\" % accuracy)\n",
    "    mlflow.log_metric(\"rmse\", rmse)\n",
    "    mlflow.log_metric(\"r2\", r2)\n",
    "    mlflow.log_metric(\"mae\", mae)\n",
    "    mlflow.log_metric(\"accuracy\", accuracy)\n",
    "    mlflow.sklearn.log_model(linear_svc, \"model\")\n",
    "    print('Accuracy Score :- ',accuracy_score(y_test,predicted_qualities))\n",
    "    print('Confusion Matrix \\n ' ,confusion_matrix(y_test,predicted_qualities))\n",
    "    print('classification Report \\n :- ',classification_report(y_test,predicted_qualities))\n",
    "    ## Confusion Matrix for Support Vector Machine Classifier.\n",
    "    cm = confusion_matrix(y_test,predicted_qualities)\n",
    "    x_axis_labels = ['Yes','No']\n",
    "    y_axis_labels = ['Yes','No']\n",
    "    f,ax = plt.subplots(figsize =(5,5))\n",
    "    sns.heatmap(cm,annot=True,linewidths=.2,linecolor='black',fmt='.0f',ax=ax,cmap='Reds',xticklabels = x_axis_labels,yticklabels=y_axis_labels)\n",
    "    plt.title('SVM Classifier confusion_matrix')\n",
    "    mlflow.end_run()"
   ]
  },
  {
   "cell_type": "code",
   "execution_count": null,
   "id": "ce6bbb8c",
   "metadata": {
    "tags": [
     "block:knn_classifier",
     "prev:train_test_sp"
    ]
   },
   "outputs": [],
   "source": [
    "# KNN Classifier\n",
    "with mlflow.start_run(run_name='KNN', experiment_id=EXPERIMENT_ID):\n",
    "    knn = KNeighborsClassifier()\n",
    "    knn.fit(x_train, y_train)\n",
    "\n",
    "    predicted_qualities = knn.predict(x_test)\n",
    "\n",
    "    (rmse, mae, r2) = eval_metrics(y_test, predicted_qualities)\n",
    "    accuracy = round(knn.score(x, y) * 100, 2)\n",
    "    print(\"  RMSE: %s\" % rmse)\n",
    "    print(\"  MAE: %s\" % mae)\n",
    "    print(\"  R2: %s\" % r2)\n",
    "    print(\"  Accuracy: %s\" % accuracy)\n",
    "    mlflow.log_metric(\"rmse\", rmse)\n",
    "    mlflow.log_metric(\"r2\", r2)\n",
    "    mlflow.log_metric(\"mae\", mae)\n",
    "    mlflow.log_metric(\"accuracy\", accuracy)\n",
    "    mlflow.sklearn.log_model(knn, \"model\")\n",
    "\n",
    "\n",
    "    print('Accuracy Score:- ',accuracy_score(y_test,predicted_qualities))\n",
    "    print('Confusion Matrix:- ',confusion_matrix(y_test,predicted_qualities))\n",
    "    print('Classifier Report:- ', classification_report(y_test,predicted_qualities))\n",
    "    ## Confusion Matrix for KNN Classifier.\n",
    "\n",
    "    cm = confusion_matrix(y_test,predicted_qualities)\n",
    "    x_axis_labels = ['Yes','No']\n",
    "    y_axis_labels = ['Yes','No']\n",
    "    f,ax = plt.subplots(figsize = (8,8))\n",
    "    sns.heatmap(cm,annot=True,linewidths=.2,linecolor='black',fmt = '.0f',ax=ax,cmap='Reds',xticklabels = x_axis_labels,yticklabels = y_axis_labels)\n",
    "    plt.title('KNN Classifier confusion Matrix')\n",
    "    mlflow.end_run()"
   ]
  },
  {
   "cell_type": "code",
   "execution_count": null,
   "id": "0f778b90",
   "metadata": {
    "tags": [
     "block:gradient_boosting_classifier",
     "prev:train_test_sp"
    ]
   },
   "outputs": [],
   "source": [
    "# Gradient Boosting Classifier\n",
    "with mlflow.start_run(run_name='Gradient Boosting Classifier', experiment_id=EXPERIMENT_ID):\n",
    "    gradient_boosting = GradientBoostingClassifier(n_estimators=100,learning_rate=0.8,max_depth=4)\n",
    "    gradient_boosting.fit(x_train, y_train)\n",
    "\n",
    "    predicted_qualities = gradient_boosting.predict(x_test)\n",
    "\n",
    "    (rmse, mae, r2) = eval_metrics(y_test, predicted_qualities)\n",
    "    accuracy = round(gradient_boosting.score(x, y) * 100, 2)\n",
    "    print(\"  RMSE: %s\" % rmse)\n",
    "    print(\"  MAE: %s\" % mae)\n",
    "    print(\"  R2: %s\" % r2)\n",
    "    print(\"  Accuracy: %s\" % accuracy)\n",
    "    mlflow.log_metric(\"rmse\", rmse)\n",
    "    mlflow.log_metric(\"r2\", r2)\n",
    "    mlflow.log_metric(\"mae\", mae)\n",
    "    mlflow.log_metric(\"accuracy\", accuracy)\n",
    "    mlflow.sklearn.log_model(gradient_boosting, \"model\")\n",
    "    print('GBC Accuracy Score is : ',accuracy_score(y_test,predicted_qualities))\n",
    "    print('GBC Confusion Matrix \\n',confusion_matrix(y_test,predicted_qualities))\n",
    "    print('GBC Classification report \\n',classification_report(y_test,predicted_qualities))\n",
    "    ## Confusion Matrix for Gradient Boosting Classifier.\n",
    "    cm = confusion_matrix(y_test,predicted_qualities)\n",
    "    x_axis_labels = ['Yes','No']\n",
    "    y_axis_labels = ['Yes','No']\n",
    "    f,ax = plt.subplots(figsize = (5,5))\n",
    "    sns.heatmap(cm,annot = True,linewidths=.2,linecolor='black',fmt='.0f',ax=ax,cmap='Reds',xticklabels = x_axis_labels,yticklabels = y_axis_labels)\n",
    "    plt.title('Confusion Matrix of GBC')\n",
    "    mlflow.end_run()"
   ]
  },
  {
   "cell_type": "code",
   "execution_count": null,
   "id": "e92a15cd",
   "metadata": {
    "tags": [
     "block:xgb_classifier",
     "prev:train_test_sp"
    ]
   },
   "outputs": [],
   "source": [
    "# XGB Classifier\n",
    "with mlflow.start_run(run_name='XGB Classifier', experiment_id=EXPERIMENT_ID):\n",
    "    xgbc = XGBClassifier()\n",
    "    xgbc.fit(x_train, y_train)\n",
    "\n",
    "    predicted_qualities = xgbc.predict(x_test)\n",
    "\n",
    "    (rmse, mae, r2) = eval_metrics(y_test, predicted_qualities)\n",
    "    accuracy = round(xgbc.score(x, y) * 100, 2)\n",
    "    print(\"  RMSE: %s\" % rmse)\n",
    "    print(\"  MAE: %s\" % mae)\n",
    "    print(\"  R2: %s\" % r2)\n",
    "    print(\"  Accuracy: %s\" % accuracy)\n",
    "    mlflow.log_metric(\"rmse\", rmse)\n",
    "    mlflow.log_metric(\"r2\", r2)\n",
    "    mlflow.log_metric(\"mae\", mae)\n",
    "    mlflow.log_metric(\"accuracy\", accuracy)\n",
    "    mlflow.xgboost.log_model(xgbc, 'model')\n",
    "\n",
    "    print('The Accuracy of XGBC is: ',accuracy_score(y_test,predicted_qualities))\n",
    "    print('Confusion Matrix of XGBC :- \\n ', confusion_matrix(y_test,predicted_qualities))\n",
    "    print('classification report of XGBC:- \\n ', classification_report(y_test,predicted_qualities))\n",
    "    ## Confusion Matrix for XGB Classifier.\n",
    "    cm = confusion_matrix(y_test,predicted_qualities)\n",
    "    x_axis_labels = [\"Yes\",\"No\"]\n",
    "    y_axis_labels = [\"Yes\",\"No\"]\n",
    "\n",
    "    f , ax = plt.subplots(figsize=(7,7))\n",
    "    sns.heatmap(cm, annot = True,linewidths=.2, linecolor=\"black\", fmt = \".0f\", ax=ax, cmap=\"Blues\", \n",
    "    xticklabels=x_axis_labels,\n",
    "    yticklabels=y_axis_labels)\n",
    "    plt.title(\"XGB Classifier prediction Confusion_matrix\")\n",
    "    mlflow.end_run()"
   ]
  },
  {
   "cell_type": "code",
   "execution_count": null,
   "id": "53d65f69",
   "metadata": {
    "tags": [
     "skip"
    ]
   },
   "outputs": [],
   "source": [
    "# Cross Validation Score for all the model\n",
    "#    CV Score for Logistic Regrassion \n",
    "print('CV Score for logistic Regression :- ',cross_val_score(logreg,x,y,cv=5).mean())\n",
    "\n",
    "#    CV Score for Random Forest Classifier\n",
    "\n",
    "print('CV Score for Random Forest Classifier: ',cross_val_score(random_forest,x,y,cv=5).mean())\n",
    "\n",
    "#    CV Score for Decision tree Classifier\n",
    "\n",
    "print('CV score for Decision Tree Classifier',cross_val_score(decision_tree,x,y,cv=5).mean())\n",
    "\n",
    "\n",
    "#    CV Score for support vector Classifire\n",
    "\n",
    "print('CV Score for Support Vector Classifier ',cross_val_score(linear_svc,x,y,cv=5).mean())\n",
    "\n",
    "#  CV Score for KNN classifier\n",
    "\n",
    "print('CV Score for KNN Classifier',cross_val_score(knn,x,y,cv=5).mean())\n",
    "\n",
    "#    CV Score for Gradian boosting Classifier\n",
    "\n",
    "print('CV Score for Gradian Boosting Classifier',cross_val_score(gradient_boosting,x,y,cv=5).mean())\n",
    "\n",
    "#   CV score for XGB Classifier\n",
    "\n",
    "print('CV Score for XGB Classifier',cross_val_score(xgbc,x,y,cv=5).mean())"
   ]
  },
  {
   "cell_type": "code",
   "execution_count": null,
   "id": "b42923a9",
   "metadata": {
    "tags": [
     "skip"
    ]
   },
   "outputs": [],
   "source": [
    "### From the observation of accuracy and cross validation score and their difference we can predict that Random Forest Classifier is the best model.\n",
    "disp = plot_roc_curve(logreg,x_test,y_test)\n",
    "plot_roc_curve(random_forest,x_test,y_test,ax=disp.ax_)\n",
    "plot_roc_curve(decision_tree,x_test,y_test,ax=disp.ax_)\n",
    "plot_roc_curve(linear_svc,x_test,y_test,ax=disp.ax_)\n",
    "plot_roc_curve(knn,x_test,y_test,ax=disp.ax_)\n",
    "plot_roc_curve(gradient_boosting,x_test,y_test,ax=disp.ax_)\n",
    "plot_roc_curve(xgbc,x_test,y_test,ax=disp.ax_)\n",
    "\n",
    "plt.title('Churn Analysis')\n",
    "plt.legend(prop={'size' : 10},loc = 'lower right')\n",
    "plt.show()"
   ]
  },
  {
   "cell_type": "code",
   "execution_count": null,
   "id": "983cf197",
   "metadata": {
    "tags": [
     "block:hyper_perametertuning",
     "prev:train_test_sp",
     "prev:xgb_classifier"
    ]
   },
   "outputs": [],
   "source": [
    "# Hyper Perametertuning for best model using GridsearchCV\n",
    "# The XGB Classifier with GridsearchCV\n",
    "params = {\n",
    "    \n",
    "    'n_estimators' : [100,200,500],\n",
    "    'learning_rate' : [0.01,0.05,0.01],\n",
    "    'booster': ['gbtree', 'gblinear'],\n",
    "    'reg_alpha' : [0,0.5,1],\n",
    "    'reg_lambda': [0.5,1,5],\n",
    "    'base_score': [0.2,0.5,1]\n",
    "}\n",
    "CV_XGBC = GridSearchCV(XGBClassifier(n_jobs=-1),params,n_jobs=-1,cv = KFold(n_splits=3),scoring='roc_auc')\n",
    "CV_XGBC.fit(x_train,y_train)\n",
    "CV_XGBC.best_params_ \n",
    "CV_XGBC.best_estimator_\n",
    "bank = XGBClassifier(base_score=0.2,booster='gbtree',learning_rate=0.1,n_estimators = 500, reg_alpha=0.5,reg_lambda=1)\n",
    "bank.fit(x_train,y_train)"
   ]
  },
  {
   "cell_type": "code",
   "execution_count": null,
   "id": "b9e22cb4",
   "metadata": {
    "tags": [
     "skip"
    ]
   },
   "outputs": [],
   "source": [
    "# Here the final model gives 90% accuracy after tuning.\n",
    "pred=bank.predict(x_test)\n",
    "print('Accuracy Score',accuracy_score(y_test,pred))\n",
    "print('\\n  confusion matrix  \\n',confusion_matrix(y_test,pred))\n",
    "print('\\n  Classification_matrix  \\n',classification_report(y_test,pred))\n",
    "\n",
    "cm = confusion_matrix(y_test,pred)\n",
    "x_axis_labels = ['Yes','No']\n",
    "y_axis_labels = ['Yes','No']\n",
    "f,ax = plt.subplots(figsize = (5,5))\n",
    "sns.heatmap(cm,annot=True,linewidths=0.2,linecolor='black',fmt = '.0f',ax=ax,cmap='Blues',xticklabels=x_axis_labels,yticklabels=y_axis_labels)\n",
    "plt.xlabel('Predicted Value')\n",
    "plt.ylabel('Actual Value')\n",
    "plt.title('Confusion Matrix for RF_HT')\n",
    "plt.show()"
   ]
  },
  {
   "cell_type": "code",
   "execution_count": null,
   "id": "825d9dbd",
   "metadata": {
    "tags": [
     "skip"
    ]
   },
   "outputs": [],
   "source": [
    "# ROC-AUC Curve\n",
    "fpr,tpr,threshold = roc_curve(y_test,pred)\n",
    "auc = roc_auc_score(y_test,pred)\n",
    "plt.figure()\n",
    "plt.plot(fpr,tpr,color=\"blue\",lw=2,label=\"ROC Curve (area= %0.2f)\" % auc)\n",
    "plt.plot([0,1],[0,1],color=\"green\",lw=2,linestyle=\"dashdot\")\n",
    "plt.xlim([0.0,1.0])\n",
    "plt.ylim([0.0,1.05])\n",
    "plt.xlabel(\"False Positive Rate\")\n",
    "plt.ylabel(\"True Positive Rate\")\n",
    "plt.title(\"Bank Churn Analysis\")\n",
    "plt.legend(loc=\"lower right\")\n",
    "plt.show()\n",
    "\n",
    "# This is the AUC-ROC curve for the models which is plotted False positive rate against True positive rate. So the best model has the area under curve as 0.90."
   ]
  },
  {
   "cell_type": "code",
   "execution_count": null,
   "id": "1ddc1b2b-c821-4a8f-8b7a-b8f4c57a3903",
   "metadata": {
    "tags": [
     "skip"
    ]
   },
   "outputs": [],
   "source": [
    "# Saving The Model\n",
    "import pickle\n",
    "filename = 'Bank_Churn_Analysis.pickle'\n",
    "pickle.dump(random_forest,open(filename,'wb'))\n",
    "loaded_model = pickle.load(open(filename,'rb'))\n",
    "loaded_model.predict(x_test)\n",
    "\n",
    "a = np.array(y_test)\n",
    "predicted = np.array(loaded_model.predict(x_test))\n",
    "Customer_Churn_Analysis = pd.DataFrame({'Original': a, 'Predicted': predicted}, index=range(len(a)))\n",
    "Customer_Churn_Analysis"
   ]
  },
  {
   "cell_type": "code",
   "execution_count": null,
   "id": "08ff06c9-57cc-4bd7-82ec-5d2247cb0af7",
   "metadata": {
    "tags": [
     "skip"
    ]
   },
   "outputs": [],
   "source": [
    "from minio import Minio\n",
    "EXPERIMENT_ID = mlflow.get_experiment_by_name(EXPERIMENT_NAME).experiment_id\n",
    "\n",
    "# print(os.getenv(\"MLFLOW_S3_ENDPOINT_URL\").replace(\"https://\",\"\"))\n",
    "# print(os.getenv(\"AWS_ACCESS_KEY_ID\"))\n",
    "# print(os.getenv(\"AWS_SECRET_ACCESS_KEY\"))\n",
    "\n",
    "client = Minio(\n",
    "    endpoint=os.getenv(\"MLFLOW_S3_ENDPOINT_URL\").replace(\"https://\",\"\"),\n",
    "    access_key=os.getenv(\"AWS_ACCESS_KEY_ID\"),\n",
    "    secret_key=os.getenv(\"AWS_SECRET_ACCESS_KEY\"),\n",
    "    secure=True,\n",
    "    http_client = urllib3.PoolManager(cert_reqs='CERT_NONE')\n",
    ")\n"
   ]
  },
  {
   "cell_type": "code",
   "execution_count": null,
   "id": "c1441cc7-3386-4bbc-b603-3d8e5aec207a",
   "metadata": {
    "tags": [
     "skip"
    ]
   },
   "outputs": [],
   "source": [
    "from mlflow import pyfunc\n",
    "best_run_df = mlflow.search_runs(experiment_ids=[EXPERIMENT_ID], order_by=['metrics.accuracy DESC'], max_results=1)\n",
    "best_run = mlflow.get_run(best_run_df.at[0, 'run_id'])\n",
    "best_model_uri = f\"{best_run.info.artifact_uri}/model\"\n",
    "is_xgbc = best_run.info.run_name == \"XGB Classifier\"\n",
    "# best_model = pyfunc.load_model(best_model_uri)\n",
    "\n",
    "print(\"Best run info:\")\n",
    "print(f\"Run id: {best_run.info.run_id}\")\n",
    "print(\"Run Accuracy:  = {:.4f}\\n\".format(best_run.data.metrics['accuracy']))\n",
    "print(f\"Run model URI: {best_model_uri}\")"
   ]
  },
  {
   "cell_type": "code",
   "execution_count": null,
   "id": "83137015-6780-4a6c-ab1d-9918de138ea3",
   "metadata": {
    "tags": [
     "skip"
    ]
   },
   "outputs": [],
   "source": [
    "import subprocess\n",
    "\n",
    "api_version = 'serving.kserve.io/v1beta1'\n",
    "model_name = 'bank-demo-1'\n",
    "model_namespace = 'hpedemo-user01'\n",
    "\n",
    "inference_service = '''\n",
    "apiVersion: \"{}\"\n",
    "kind: \"InferenceService\"\n",
    "metadata:\n",
    "  name: {}\n",
    "  namespace: {}\n",
    "spec:\n",
    "  predictor:\n",
    "    serviceAccountName: kserve-minio-sa\n",
    "    {}:\n",
    "      protocolVersion: \"v2\"\n",
    "      storageUri: \"{}\"\n",
    "'''.format(api_version, model_name, model_namespace, \"sklearn\" if not is_xgbc else \"xgboost\", best_model_uri)\n",
    "\n",
    "subprocess.run('cat << EOF | kubectl apply -f -' + inference_service + 'EOF', shell=True)"
   ]
  },
  {
   "cell_type": "code",
   "execution_count": null,
   "id": "b77554ed-6e24-44b4-86a6-3dbc8b015327",
   "metadata": {
    "tags": [
     "skip"
    ]
   },
   "outputs": [],
   "source": [
    "import requests, json\n",
    "import numpy as np\n",
    "from requests.packages.urllib3.exceptions import InsecureRequestWarning\n",
    "requests.packages.urllib3.disable_warnings(InsecureRequestWarning)\n",
    "\n",
    "KUBEFLOW_URL = \"kubeflow.hpe-staging-ezaf.com\"\n",
    "DEPLOYMENT_NAME = \"bank-demo-1\"\n",
    "NAMESPACE=\"hpedemo-user01\"\n",
    "SVC = f'{DEPLOYMENT_NAME}-predictor-default.{NAMESPACE}.hpe-staging-ezaf.com'\n",
    "\n",
    "URL = \"https://{}/v2/model/{}/infer\".format(SVC, DEPLOYMENT_NAME)\n",
    "\n",
    "# PREDICTION_URL = KUBEFLOW_URL #\"{}/seldon/{}/{}/api/v1.0/predictions\".format(KUBEFLOW_URL,NAMESPACE,SELDON_DEPLOYMENT_NAME)\n",
    "print(URL)"
   ]
  },
  {
   "cell_type": "code",
   "execution_count": null,
   "id": "aeca7a59-b5d8-443f-8f62-daacc0a47037",
   "metadata": {
    "tags": [
     "skip"
    ]
   },
   "outputs": [],
   "source": [
    "import requests\n",
    "EZAF_ENV = \"hpe-staging-ezaf\"\n",
    "token_url = f\"https://keycloak.{EZAF_ENV}.com/realms/UA/protocol/openid-connect/token\"\n",
    "\n",
    "data = {\n",
    "    \"username\" : input(\"Enter username.\"),\n",
    "    \"password\" : input(\"Enter password.\"),\n",
    "    \"grant_type\" : \"password\",\n",
    "    \"client_id\" : \"ua-grant\",\n",
    "}\n",
    "\n",
    "token_responce = requests.post(token_url, data=data, allow_redirects=True, verify=False)\n",
    "\n",
    "token = token_responce.json()[\"access_token\"]\n",
    "\n",
    "\n"
   ]
  },
  {
   "cell_type": "code",
   "execution_count": null,
   "id": "d6c9c4d6-4097-4f5b-a172-0f443e665bde",
   "metadata": {
    "tags": [
     "skip"
    ]
   },
   "outputs": [],
   "source": [
    "NAMESPACE = \"hpedemo-user01\"\n",
    "DEPLOYMENT_NAME = \"bank-demo-1\"\n",
    "MODEL_NAME = DEPLOYMENT_NAME\n",
    "SVC = f'{DEPLOYMENT_NAME}-predictor-default.{NAMESPACE}.{EZAF_ENV}.com'\n",
    "URL = f\"https://{SVC}/v2/models/{MODEL_NAME}/infer\"\n",
    "\n",
    "print(URL)\n",
    "\n",
    "names=['age','job','marital','education','default1','balance','housing','loan','contact',\n",
    "       'day','month','duration','campaign','pdays','previous','poutcome','target']\n",
    "\n",
    "input_data = [\n",
    "    [30,'unemployed','married','primary','no',1787,'no','no','cellular',19,'oct',79,1,-1,0,'unknown','no'],\n",
    "    [36,'self-employed','married','tertiary','no',307,'yes','no','cellular',14,'may',341,1,330,2,'other','no']\n",
    "]\n",
    "\n",
    "Declined = {'age':30,'job':'unemployed','marital':'married','education':'primary','default1':'no','balance':1787,'housing':'no','loan':'no','contact':'cellular',\n",
    "       'day':19,'month':'oct','duration':79,'campaign':1,'pdays':-1,'previous':0,'poutcome':'unknown'} #,'target':'no'}\n",
    "\n",
    "Approved={'age':20,'job':'student','marital':'single','education':'secondary','default1':'no','balance':502,'housing':'no','loan':'no','contact':'cellular',\n",
    "       'day':30,'month':'apr','duration':261,'campaign':1,'pdays':1,'previous':0,'poutcome':'unknown'} #,'target':'yes'}\n",
    "\n",
    "enc = LabelEncoder()\n",
    "for key, value in Declined.items():\n",
    "    if isinstance(value, str):\n",
    "        Declined[key] = 0.5 ## TODO\n",
    "\n",
    "for key, value in Approved.items():\n",
    "    if isinstance(value, str):\n",
    "        Approved[key] = 0.5 ## TODO\n",
    "\n",
    "inputs = {\n",
    "  \"inputs\": [\n",
    "    { \n",
    "      \"name\": \"ndarray\",\n",
    "      \"shape\": [2,16], # 17],\n",
    "      \"datatype\": \"FP32\",\n",
    "      \"data\": [\n",
    "        list(Approved.values()),\n",
    "        list(Declined.values())  \n",
    "      ]\n",
    "    }\n",
    "  ],\n",
    "    \"outputs\": [\n",
    "        {\n",
    "            \"name\": \"predict\"\n",
    "        },\n",
    "        {\n",
    "            \"name\": \"predict_proba\"\n",
    "        }\n",
    "    ]\n",
    "}\n",
    "\n",
    "headers = {\n",
    "    'Accept': 'application/json',\n",
    "    'Content-Type': 'application/json',\n",
    "     \"Authorization\": f\"Bearer {token}\"\n",
    "}\n",
    "json_request = json.dumps(inputs)\n",
    "print(json_request)\n",
    "response = requests.post(URL, headers=headers, data=json_request, verify=False)\n",
    "print(response.reason)\n",
    "outputs = response.json()[\"outputs\"]\n",
    "print(outputs)\n",
    "\n",
    "# response = requests.post(URL, json=inputs, headers=headers, verify=False)\n",
    "\n",
    "# print(response.reason)\n",
    "\n",
    "# output = response.json()['outputs']\n",
    "\n",
    "# print(\"eligible for investment banking\\n\")\n",
    "# for item, out in zip(input_data, output):\n",
    "#     input_dict = dict(zip(names,item))\n",
    "#     print(f\"Input Data: {input_dict} \\n\\ntarget customers{out}\\n\")\n"
   ]
  }
 ],
 "metadata": {
  "kernelspec": {
   "display_name": "Python 3 (ipykernel)",
   "language": "python",
   "name": "python3"
  },
  "kubeflow_notebook": {
   "autosnapshot": false,
   "docker_image": "gcr.io/mapr-252711/kubeflow/notebooks/jupyter-data-science:ezaf-fy23-q2",
   "experiment": {
    "id": "77b49f56-aef3-49f0-ae0b-bb79bb34b9ed",
    "name": "bank-demo"
   },
   "experiment_name": "bank-demo",
   "katib_metadata": {
    "algorithm": {
     "algorithmName": "grid"
    },
    "maxFailedTrialCount": 3,
    "maxTrialCount": 12,
    "objective": {
     "objectiveMetricName": "",
     "type": "minimize"
    },
    "parallelTrialCount": 3,
    "parameters": []
   },
   "katib_run": false,
   "pipeline_description": "",
   "pipeline_name": "banking",
   "snapshot_volumes": false,
   "steps_defaults": [
    "label:access-ml-pipeline:true",
    "label:add-external-df-volume:true",
    "label:add-ldapcert-secret:true",
    "label:add-sssd-secret:true"
   ],
   "volume_access_mode": "rwm",
   "volumes": []
  },
  "language_info": {
   "codemirror_mode": {
    "name": "ipython",
    "version": 3
   },
   "file_extension": ".py",
   "mimetype": "text/x-python",
   "name": "python",
   "nbconvert_exporter": "python",
   "pygments_lexer": "ipython3",
   "version": "3.8.10"
  },
  "toc-autonumbering": true,
  "toc-showcode": true,
  "toc-showmarkdowntxt": true,
  "toc-showtags": false
 },
 "nbformat": 4,
 "nbformat_minor": 5
}
